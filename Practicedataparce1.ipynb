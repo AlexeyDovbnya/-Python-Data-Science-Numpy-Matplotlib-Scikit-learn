{
 "cells": [
  {
   "cell_type": "code",
   "execution_count": 1,
   "id": "b110a4c3",
   "metadata": {},
   "outputs": [],
   "source": [
    "import requests\n",
    "from pprint import pprint"
   ]
  },
  {
   "cell_type": "code",
   "execution_count": 2,
   "id": "6bc8b2f0",
   "metadata": {},
   "outputs": [],
   "source": [
    "import os\n",
    "\n",
    "username = 'AlexeyDovbnya'\n",
    "\n",
    "token = \"********\""
   ]
  },
  {
   "cell_type": "code",
   "execution_count": 3,
   "id": "c422473f",
   "metadata": {},
   "outputs": [],
   "source": [
    "r = requests.get('https://api.github.com/user', auth=(username, token))"
   ]
  },
  {
   "cell_type": "code",
   "execution_count": 4,
   "id": "58175baf",
   "metadata": {},
   "outputs": [
    {
     "data": {
      "text/plain": [
       "'{\"login\":\"AlexeyDovbnya\",\"id\":97439234,\"node_id\":\"U_kgDOBc7OAg\",\"avatar_url\":\"https://avatars.githubusercontent.com/u/97439234?v=4\",\"gravatar_id\":\"\",\"url\":\"https://api.github.com/users/AlexeyDovbnya\",\"html_url\":\"https://github.com/AlexeyDovbnya\",\"followers_url\":\"https://api.github.com/users/AlexeyDovbnya/followers\",\"following_url\":\"https://api.github.com/users/AlexeyDovbnya/following{/other_user}\",\"gists_url\":\"https://api.github.com/users/AlexeyDovbnya/gists{/gist_id}\",\"starred_url\":\"https://api.github.com/users/AlexeyDovbnya/starred{/owner}{/repo}\",\"subscriptions_url\":\"https://api.github.com/users/AlexeyDovbnya/subscriptions\",\"organizations_url\":\"https://api.github.com/users/AlexeyDovbnya/orgs\",\"repos_url\":\"https://api.github.com/users/AlexeyDovbnya/repos\",\"events_url\":\"https://api.github.com/users/AlexeyDovbnya/events{/privacy}\",\"received_events_url\":\"https://api.github.com/users/AlexeyDovbnya/received_events\",\"type\":\"User\",\"site_admin\":false,\"name\":null,\"company\":null,\"blog\":\"\",\"location\":null,\"email\":null,\"hireable\":null,\"bio\":null,\"twitter_username\":null,\"public_repos\":2,\"public_gists\":0,\"followers\":0,\"following\":0,\"created_at\":\"2022-01-10T09:43:29Z\",\"updated_at\":\"2022-12-19T07:18:01Z\"}'"
      ]
     },
     "execution_count": 4,
     "metadata": {},
     "output_type": "execute_result"
    }
   ],
   "source": [
    "r.text"
   ]
  },
  {
   "cell_type": "code",
   "execution_count": 5,
   "id": "e62328bf",
   "metadata": {},
   "outputs": [
    {
     "data": {
      "text/plain": [
       "{'login': 'AlexeyDovbnya',\n",
       " 'id': 97439234,\n",
       " 'node_id': 'U_kgDOBc7OAg',\n",
       " 'avatar_url': 'https://avatars.githubusercontent.com/u/97439234?v=4',\n",
       " 'gravatar_id': '',\n",
       " 'url': 'https://api.github.com/users/AlexeyDovbnya',\n",
       " 'html_url': 'https://github.com/AlexeyDovbnya',\n",
       " 'followers_url': 'https://api.github.com/users/AlexeyDovbnya/followers',\n",
       " 'following_url': 'https://api.github.com/users/AlexeyDovbnya/following{/other_user}',\n",
       " 'gists_url': 'https://api.github.com/users/AlexeyDovbnya/gists{/gist_id}',\n",
       " 'starred_url': 'https://api.github.com/users/AlexeyDovbnya/starred{/owner}{/repo}',\n",
       " 'subscriptions_url': 'https://api.github.com/users/AlexeyDovbnya/subscriptions',\n",
       " 'organizations_url': 'https://api.github.com/users/AlexeyDovbnya/orgs',\n",
       " 'repos_url': 'https://api.github.com/users/AlexeyDovbnya/repos',\n",
       " 'events_url': 'https://api.github.com/users/AlexeyDovbnya/events{/privacy}',\n",
       " 'received_events_url': 'https://api.github.com/users/AlexeyDovbnya/received_events',\n",
       " 'type': 'User',\n",
       " 'site_admin': False,\n",
       " 'name': None,\n",
       " 'company': None,\n",
       " 'blog': '',\n",
       " 'location': None,\n",
       " 'email': None,\n",
       " 'hireable': None,\n",
       " 'bio': None,\n",
       " 'twitter_username': None,\n",
       " 'public_repos': 2,\n",
       " 'public_gists': 0,\n",
       " 'followers': 0,\n",
       " 'following': 0,\n",
       " 'created_at': '2022-01-10T09:43:29Z',\n",
       " 'updated_at': '2022-12-19T07:18:01Z'}"
      ]
     },
     "execution_count": 5,
     "metadata": {},
     "output_type": "execute_result"
    }
   ],
   "source": [
    "r.json()"
   ]
  },
  {
   "cell_type": "code",
   "execution_count": 6,
   "id": "5a050207",
   "metadata": {},
   "outputs": [],
   "source": [
    "repos = requests.get('https://api.github.com/user/repos', auth=(username, token))"
   ]
  },
  {
   "cell_type": "code",
   "execution_count": 7,
   "id": "e1d6329d",
   "metadata": {},
   "outputs": [
    {
     "data": {
      "text/plain": [
       "{'id': 450012628,\n",
       " 'node_id': 'R_kgDOGtKl1A',\n",
       " 'name': 'Practice_python',\n",
       " 'full_name': 'AlexeyDovbnya/Practice_python',\n",
       " 'private': False,\n",
       " 'owner': {'login': 'AlexeyDovbnya',\n",
       "  'id': 97439234,\n",
       "  'node_id': 'U_kgDOBc7OAg',\n",
       "  'avatar_url': 'https://avatars.githubusercontent.com/u/97439234?v=4',\n",
       "  'gravatar_id': '',\n",
       "  'url': 'https://api.github.com/users/AlexeyDovbnya',\n",
       "  'html_url': 'https://github.com/AlexeyDovbnya',\n",
       "  'followers_url': 'https://api.github.com/users/AlexeyDovbnya/followers',\n",
       "  'following_url': 'https://api.github.com/users/AlexeyDovbnya/following{/other_user}',\n",
       "  'gists_url': 'https://api.github.com/users/AlexeyDovbnya/gists{/gist_id}',\n",
       "  'starred_url': 'https://api.github.com/users/AlexeyDovbnya/starred{/owner}{/repo}',\n",
       "  'subscriptions_url': 'https://api.github.com/users/AlexeyDovbnya/subscriptions',\n",
       "  'organizations_url': 'https://api.github.com/users/AlexeyDovbnya/orgs',\n",
       "  'repos_url': 'https://api.github.com/users/AlexeyDovbnya/repos',\n",
       "  'events_url': 'https://api.github.com/users/AlexeyDovbnya/events{/privacy}',\n",
       "  'received_events_url': 'https://api.github.com/users/AlexeyDovbnya/received_events',\n",
       "  'type': 'User',\n",
       "  'site_admin': False},\n",
       " 'html_url': 'https://github.com/AlexeyDovbnya/Practice_python',\n",
       " 'description': None,\n",
       " 'fork': False,\n",
       " 'url': 'https://api.github.com/repos/AlexeyDovbnya/Practice_python',\n",
       " 'forks_url': 'https://api.github.com/repos/AlexeyDovbnya/Practice_python/forks',\n",
       " 'keys_url': 'https://api.github.com/repos/AlexeyDovbnya/Practice_python/keys{/key_id}',\n",
       " 'collaborators_url': 'https://api.github.com/repos/AlexeyDovbnya/Practice_python/collaborators{/collaborator}',\n",
       " 'teams_url': 'https://api.github.com/repos/AlexeyDovbnya/Practice_python/teams',\n",
       " 'hooks_url': 'https://api.github.com/repos/AlexeyDovbnya/Practice_python/hooks',\n",
       " 'issue_events_url': 'https://api.github.com/repos/AlexeyDovbnya/Practice_python/issues/events{/number}',\n",
       " 'events_url': 'https://api.github.com/repos/AlexeyDovbnya/Practice_python/events',\n",
       " 'assignees_url': 'https://api.github.com/repos/AlexeyDovbnya/Practice_python/assignees{/user}',\n",
       " 'branches_url': 'https://api.github.com/repos/AlexeyDovbnya/Practice_python/branches{/branch}',\n",
       " 'tags_url': 'https://api.github.com/repos/AlexeyDovbnya/Practice_python/tags',\n",
       " 'blobs_url': 'https://api.github.com/repos/AlexeyDovbnya/Practice_python/git/blobs{/sha}',\n",
       " 'git_tags_url': 'https://api.github.com/repos/AlexeyDovbnya/Practice_python/git/tags{/sha}',\n",
       " 'git_refs_url': 'https://api.github.com/repos/AlexeyDovbnya/Practice_python/git/refs{/sha}',\n",
       " 'trees_url': 'https://api.github.com/repos/AlexeyDovbnya/Practice_python/git/trees{/sha}',\n",
       " 'statuses_url': 'https://api.github.com/repos/AlexeyDovbnya/Practice_python/statuses/{sha}',\n",
       " 'languages_url': 'https://api.github.com/repos/AlexeyDovbnya/Practice_python/languages',\n",
       " 'stargazers_url': 'https://api.github.com/repos/AlexeyDovbnya/Practice_python/stargazers',\n",
       " 'contributors_url': 'https://api.github.com/repos/AlexeyDovbnya/Practice_python/contributors',\n",
       " 'subscribers_url': 'https://api.github.com/repos/AlexeyDovbnya/Practice_python/subscribers',\n",
       " 'subscription_url': 'https://api.github.com/repos/AlexeyDovbnya/Practice_python/subscription',\n",
       " 'commits_url': 'https://api.github.com/repos/AlexeyDovbnya/Practice_python/commits{/sha}',\n",
       " 'git_commits_url': 'https://api.github.com/repos/AlexeyDovbnya/Practice_python/git/commits{/sha}',\n",
       " 'comments_url': 'https://api.github.com/repos/AlexeyDovbnya/Practice_python/comments{/number}',\n",
       " 'issue_comment_url': 'https://api.github.com/repos/AlexeyDovbnya/Practice_python/issues/comments{/number}',\n",
       " 'contents_url': 'https://api.github.com/repos/AlexeyDovbnya/Practice_python/contents/{+path}',\n",
       " 'compare_url': 'https://api.github.com/repos/AlexeyDovbnya/Practice_python/compare/{base}...{head}',\n",
       " 'merges_url': 'https://api.github.com/repos/AlexeyDovbnya/Practice_python/merges',\n",
       " 'archive_url': 'https://api.github.com/repos/AlexeyDovbnya/Practice_python/{archive_format}{/ref}',\n",
       " 'downloads_url': 'https://api.github.com/repos/AlexeyDovbnya/Practice_python/downloads',\n",
       " 'issues_url': 'https://api.github.com/repos/AlexeyDovbnya/Practice_python/issues{/number}',\n",
       " 'pulls_url': 'https://api.github.com/repos/AlexeyDovbnya/Practice_python/pulls{/number}',\n",
       " 'milestones_url': 'https://api.github.com/repos/AlexeyDovbnya/Practice_python/milestones{/number}',\n",
       " 'notifications_url': 'https://api.github.com/repos/AlexeyDovbnya/Practice_python/notifications{?since,all,participating}',\n",
       " 'labels_url': 'https://api.github.com/repos/AlexeyDovbnya/Practice_python/labels{/name}',\n",
       " 'releases_url': 'https://api.github.com/repos/AlexeyDovbnya/Practice_python/releases{/id}',\n",
       " 'deployments_url': 'https://api.github.com/repos/AlexeyDovbnya/Practice_python/deployments',\n",
       " 'created_at': '2022-01-20T08:23:30Z',\n",
       " 'updated_at': '2022-01-20T08:23:30Z',\n",
       " 'pushed_at': '2022-01-20T08:23:30Z',\n",
       " 'git_url': 'git://github.com/AlexeyDovbnya/Practice_python.git',\n",
       " 'ssh_url': 'git@github.com:AlexeyDovbnya/Practice_python.git',\n",
       " 'clone_url': 'https://github.com/AlexeyDovbnya/Practice_python.git',\n",
       " 'svn_url': 'https://github.com/AlexeyDovbnya/Practice_python',\n",
       " 'homepage': None,\n",
       " 'size': 0,\n",
       " 'stargazers_count': 0,\n",
       " 'watchers_count': 0,\n",
       " 'language': None,\n",
       " 'has_issues': True,\n",
       " 'has_projects': True,\n",
       " 'has_downloads': True,\n",
       " 'has_wiki': True,\n",
       " 'has_pages': False,\n",
       " 'has_discussions': False,\n",
       " 'forks_count': 0,\n",
       " 'mirror_url': None,\n",
       " 'archived': False,\n",
       " 'disabled': False,\n",
       " 'open_issues_count': 0,\n",
       " 'license': None,\n",
       " 'allow_forking': True,\n",
       " 'is_template': False,\n",
       " 'web_commit_signoff_required': False,\n",
       " 'topics': [],\n",
       " 'visibility': 'public',\n",
       " 'forks': 0,\n",
       " 'open_issues': 0,\n",
       " 'watchers': 0,\n",
       " 'default_branch': 'main',\n",
       " 'permissions': {'admin': True,\n",
       "  'maintain': True,\n",
       "  'push': True,\n",
       "  'triage': True,\n",
       "  'pull': True}}"
      ]
     },
     "execution_count": 7,
     "metadata": {},
     "output_type": "execute_result"
    }
   ],
   "source": [
    "repos.json()[1]"
   ]
  },
  {
   "cell_type": "code",
   "execution_count": 8,
   "id": "14994520",
   "metadata": {},
   "outputs": [
    {
     "name": "stdout",
     "output_type": "stream",
     "text": [
      "https://github.com/AlexeyDovbnya/-Python-Data-Science-Numpy-Matplotlib-Scikit-learn\n",
      "https://github.com/AlexeyDovbnya/Practice_python\n"
     ]
    }
   ],
   "source": [
    " for repo in repos.json():\n",
    "        if not repo['private']:\n",
    "            print(repo['html_url'])"
   ]
  },
  {
   "cell_type": "code",
   "execution_count": 9,
   "id": "53e98ed0",
   "metadata": {},
   "outputs": [],
   "source": [
    "import json"
   ]
  },
  {
   "cell_type": "code",
   "execution_count": 10,
   "id": "8e780a4a",
   "metadata": {},
   "outputs": [],
   "source": [
    "with open('practice1datapars.json', 'w') as f:\n",
    "    json.dump(repos.json()[1], f)"
   ]
  },
  {
   "cell_type": "code",
   "execution_count": 11,
   "id": "1489061d",
   "metadata": {},
   "outputs": [
    {
     "name": "stdout",
     "output_type": "stream",
     "text": [
      "\n",
      "Список моих сообществ:\n",
      "[BadComedian] ХЛЕБАЛОсольный\n",
      "Юрий Подоляка\n",
      "ПФК ЦСКА Москва\n",
      "Филос\n",
      "Суть философии\n",
      "Студенческий союз МИРЭА\n",
      "ACMB — Капоэйра в Москве и МО\n",
      "МИРЭА — Российский технологический университет\n",
      "Hans Rudi Giger & Aliens\n",
      "★ ★ ★ ★ ★ 100% Capoeira Капоэйра ★ ★ ★ ★ ★\n",
      "ВЭБ Арена\n",
      "Португальский язык\n",
      "DEEP ROOM | Lounge\n",
      "Jinga Kids Capoeira\n",
      "2004-2010 Что было, что стало!!!??? СЛЁТ ВЫПУСКНИКОВ ШКОЛЫ 51!!!\n",
      "Кальянная Лаборатория|Спортивные трансляции| PS4\n",
      "Capoeira на Бутлерова\n",
      "Капоэйра\n",
      "Институт ИНТЕГУ\n",
      ":DECONSTRUCT: @ СВОБОДА 15/12/17\n",
      "Пранк на заказ от Евгения Вольнова\n",
      "CAPOEIRA-FOREVA\n",
      ".....Арена ЦСКА на 3-ей Песчаной.....\n",
      "BATIZADO E TROCA DE CORDAS ACMB 2017\n",
      "Город-Бартер/Barter-city\n",
      "ACMB Batizado Russia 2009\n",
      "ОТКРЫТАЯ РОДА ツ  Группа АСМВ ツ\n",
      "III TUDO PELA CAPOEIRA  FAMILIA GINGA E RAÇA\n",
      "КАПОЭЙРА УФА CAPOEIRA UFA!!! Набор в группы!\n",
      "Visual Magnetics в России\n",
      "TROMA\n",
      "Buda capoeira club\n",
      "Surf-август на Филиппинах\n",
      "на районе\n",
      "Кто сказал что у нас редкая фамилия?Мы Довбня и нас много!!!!Все,чья фамилия Довбня сюда!!!\n",
      "->->-> TOP _★_★_ ELEMENTS_ OF_ CAPOEIRA <-<-<-\n",
      "Досуг\n",
      "Hara Show (ХараШоу)\n",
      "ГФ-1-04\n",
      "Наш бог - Константин Крестов / Трэш-группа\n",
      "\n",
      "лечебно-оздоровительное гетто \"Амадест\"\n",
      "Sport80\n",
      "♥ 22 декабря 1986-что может быть лучше?♡\n",
      "9 микрорайон ТС - СИЛА!!!\n",
      "Ура, всем рожденным 22 декабря!!!\n",
      "It's All Gone Pete Tong (La Leyenda Del DJ Frankie Wilde)\n",
      "Все!!!Кто родились 22 декабря!!Объединяемся!!!\n",
      "ICON BJJ (Brazilian Jiu Jitsu Moscow)\n",
      "Коллекционирование Отдых Спорт\n"
     ]
    }
   ],
   "source": [
    "app_id = 1142822\n",
    "vk_version = '5.131'\n",
    "auth_url = f'https://oauth.vk.com/authorize?client_id={app_id}&display=page&redirect_uri=https://oauth.vk.com/blank.html&scope=friends&response_type=token&v={vk_version}';\n",
    "\n",
    "access_token = '*****'\n",
    "\n",
    "response = requests.get(f'https://api.vk.com/method/groups.get?extended=1&access_token={access_token}&v={vk_version}')\n",
    "response_json = response.json()\n",
    "with open('task02_response.json', 'w') as file:\n",
    "    json.dump(response_json, file)\n",
    "\n",
    "print('\\nСписок моих сообществ:')\n",
    "for group in response_json['response']['items']:\n",
    "    print(f\"{group['name']}\")"
   ]
  },
  {
   "cell_type": "code",
   "execution_count": null,
   "id": "16dc71eb",
   "metadata": {},
   "outputs": [],
   "source": []
  },
  {
   "cell_type": "code",
   "execution_count": null,
   "id": "76e6b076",
   "metadata": {},
   "outputs": [],
   "source": []
  },
  {
   "cell_type": "code",
   "execution_count": null,
   "id": "f97a5d88",
   "metadata": {},
   "outputs": [],
   "source": []
  },
  {
   "cell_type": "code",
   "execution_count": null,
   "id": "ac7b3ff0",
   "metadata": {},
   "outputs": [],
   "source": []
  },
  {
   "cell_type": "code",
   "execution_count": null,
   "id": "d9ae9d62",
   "metadata": {},
   "outputs": [],
   "source": []
  },
  {
   "cell_type": "code",
   "execution_count": null,
   "id": "030a7d9d",
   "metadata": {},
   "outputs": [],
   "source": []
  }
 ],
 "metadata": {
  "kernelspec": {
   "display_name": "Python 3 (ipykernel)",
   "language": "python",
   "name": "python3"
  },
  "language_info": {
   "codemirror_mode": {
    "name": "ipython",
    "version": 3
   },
   "file_extension": ".py",
   "mimetype": "text/x-python",
   "name": "python",
   "nbconvert_exporter": "python",
   "pygments_lexer": "ipython3",
   "version": "3.9.12"
  }
 },
 "nbformat": 4,
 "nbformat_minor": 5
}
