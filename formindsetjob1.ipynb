{
 "cells": [
  {
   "cell_type": "markdown",
   "id": "5e6f77fc",
   "metadata": {},
   "source": [
    "Некоторые изображения требуют дополнительного очерчивания для переноса текста как файл '0.jpeg'.\n",
    "А некоторые работают со стандартным механизмом pytesseract."
   ]
  },
  {
   "cell_type": "code",
   "execution_count": null,
   "id": "19c043c7",
   "metadata": {},
   "outputs": [],
   "source": [
    "pip install opencv-python"
   ]
  },
  {
   "cell_type": "code",
   "execution_count": 2,
   "id": "fa7f427c",
   "metadata": {},
   "outputs": [
    {
     "name": "stdout",
     "output_type": "stream",
     "text": [
      "Requirement already satisfied: pytesseract in c:\\users\\alexeyd\\anaconda3\\lib\\site-packages (0.3.10)\n",
      "Requirement already satisfied: packaging>=21.3 in c:\\users\\alexeyd\\anaconda3\\lib\\site-packages (from pytesseract) (21.3)\n",
      "Requirement already satisfied: Pillow>=8.0.0 in c:\\users\\alexeyd\\anaconda3\\lib\\site-packages (from pytesseract) (9.0.1)\n",
      "Requirement already satisfied: pyparsing!=3.0.5,>=2.0.2 in c:\\users\\alexeyd\\anaconda3\\lib\\site-packages (from packaging>=21.3->pytesseract) (3.0.4)\n",
      "Note: you may need to restart the kernel to use updated packages.\n"
     ]
    }
   ],
   "source": [
    "pip install pytesseract"
   ]
  },
  {
   "cell_type": "code",
   "execution_count": 4,
   "id": "1a2e53a0",
   "metadata": {},
   "outputs": [],
   "source": [
    "from PIL import Image"
   ]
  },
  {
   "cell_type": "code",
   "execution_count": 5,
   "id": "bca7d350",
   "metadata": {},
   "outputs": [],
   "source": [
    "from pytesseract import pytesseract"
   ]
  },
  {
   "cell_type": "code",
   "execution_count": 6,
   "id": "7462c1da",
   "metadata": {},
   "outputs": [],
   "source": [
    "config = r'-l rus --oem 1 --psm 3'"
   ]
  },
  {
   "cell_type": "code",
   "execution_count": 7,
   "id": "d036d5fc",
   "metadata": {},
   "outputs": [],
   "source": [
    "path_to_tesseract = r\"D:\\Program Files\\Tesseract-OCR\\tesseract.exe\"\n",
    "pytesseract.tesseract_cmd = path_to_tesseract"
   ]
  },
  {
   "cell_type": "code",
   "execution_count": 32,
   "id": "5cfa4c95",
   "metadata": {},
   "outputs": [],
   "source": [
    "import cv2"
   ]
  },
  {
   "cell_type": "code",
   "execution_count": 166,
   "id": "16c0ac16",
   "metadata": {},
   "outputs": [],
   "source": [
    "img = cv2.imread('0.jpeg')"
   ]
  },
  {
   "cell_type": "code",
   "execution_count": 167,
   "id": "6137ab34",
   "metadata": {},
   "outputs": [],
   "source": [
    "gray = cv2.cvtColor(img, cv2.COLOR_BGR2GRAY)"
   ]
  },
  {
   "cell_type": "code",
   "execution_count": 168,
   "id": "edfbd66f",
   "metadata": {},
   "outputs": [
    {
     "data": {
      "text/plain": [
       "True"
      ]
     },
     "execution_count": 168,
     "metadata": {},
     "output_type": "execute_result"
    }
   ],
   "source": [
    "ret, thresh1 = cv2.threshold(gray,0,255,cv2.THRESH_OTSU |                             \n",
    "cv2.THRESH_BINARY_INV)\n",
    "cv2.imwrite('threshold_image2.jpg', thresh1)"
   ]
  },
  {
   "cell_type": "code",
   "execution_count": 169,
   "id": "7f2b5c81",
   "metadata": {},
   "outputs": [],
   "source": [
    "rect_kernel = cv2.getStructuringElement(cv2.MORPH_RECT, (12, 12))"
   ]
  },
  {
   "cell_type": "code",
   "execution_count": 170,
   "id": "ffce5517",
   "metadata": {},
   "outputs": [
    {
     "data": {
      "text/plain": [
       "True"
      ]
     },
     "execution_count": 170,
     "metadata": {},
     "output_type": "execute_result"
    }
   ],
   "source": [
    "dilation = cv2.dilate(thresh1, rect_kernel, iterations = 3)\n",
    "cv2.imwrite('dilation_image2.jpg',dilation)"
   ]
  },
  {
   "cell_type": "code",
   "execution_count": 171,
   "id": "c1060dbd",
   "metadata": {},
   "outputs": [],
   "source": [
    "contours, hierarchy = cv2.findContours(dilation, cv2.RETR_EXTERNAL,\n",
    "                                            cv2.CHAIN_APPROX_NONE)"
   ]
  },
  {
   "cell_type": "code",
   "execution_count": 172,
   "id": "f9b0f3a8",
   "metadata": {},
   "outputs": [],
   "source": [
    "im2 = img.copy()"
   ]
  },
  {
   "cell_type": "code",
   "execution_count": 173,
   "id": "3c943f57",
   "metadata": {},
   "outputs": [],
   "source": [
    "for cnt in contours:\n",
    "    x, y, w, h = cv2.boundingRect(cnt)\n",
    "     \n",
    "    rect=cv2.rectangle(im2, (x, y), (x + w, y + h), (0, 255, 0), 2)\n",
    "     \n",
    "    cropped = im2[y:y + h, x:x + w]\n",
    "    \n",
    "    cv2.imwrite('rectanglebox2.jpg',rect)\n",
    "         \n",
    "    text = pytesseract.image_to_string(cropped, config=config)"
   ]
  },
  {
   "cell_type": "code",
   "execution_count": null,
   "id": "b51beda7",
   "metadata": {},
   "outputs": [],
   "source": []
  },
  {
   "cell_type": "code",
   "execution_count": 174,
   "id": "55d71b4e",
   "metadata": {},
   "outputs": [],
   "source": [
    "img1 = Image.open('2.jpeg')"
   ]
  },
  {
   "cell_type": "code",
   "execution_count": 175,
   "id": "d40f1834",
   "metadata": {},
   "outputs": [],
   "source": [
    "text1 = pytesseract.image_to_string(img1, config=config)"
   ]
  },
  {
   "cell_type": "code",
   "execution_count": 176,
   "id": "c655695a",
   "metadata": {},
   "outputs": [
    {
     "name": "stdout",
     "output_type": "stream",
     "text": [
      "российск ДЕРАЦИЯ\n",
      "ОТДЕЛОМ ВНУТРЕННИХ ДЕЛ\n",
      "ГОР. КРАСНОЗНАМЕНСК\n",
      "\n",
      "16.10.2016 НХ 100-128\n",
      "\n",
      "дати\n",
      "\n",
      "ШАПОШНИКОВА ®\n",
      "\n",
      "ВИКТОРИЯ\n",
      "НИКОЛАЕВНА.\n",
      "ЖЕН. ^.. 14.09.1985\n",
      "\n",
      "=» ГОР. КРАСНОЗНАМЕНСК\n",
      "\n",
      "371166 90 9\n",
      "\n",
      "<<<Пробная страничка Паспорт РФ 2017>>>\n",
      "<<<Стоимость программы 10 $>>>\n",
      "<<<Ета:1: Васкег1аБпем@дта11.сот>>>>\n",
      "\n",
      "\n"
     ]
    }
   ],
   "source": [
    "print(text1)"
   ]
  },
  {
   "cell_type": "code",
   "execution_count": null,
   "id": "bfae2b1b",
   "metadata": {},
   "outputs": [],
   "source": []
  }
 ],
 "metadata": {
  "kernelspec": {
   "display_name": "Python 3 (ipykernel)",
   "language": "python",
   "name": "python3"
  },
  "language_info": {
   "codemirror_mode": {
    "name": "ipython",
    "version": 3
   },
   "file_extension": ".py",
   "mimetype": "text/x-python",
   "name": "python",
   "nbconvert_exporter": "python",
   "pygments_lexer": "ipython3",
   "version": "3.9.12"
  }
 },
 "nbformat": 4,
 "nbformat_minor": 5
}
